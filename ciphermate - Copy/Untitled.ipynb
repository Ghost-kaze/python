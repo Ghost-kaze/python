{
 "cells": [
  {
   "cell_type": "code",
   "execution_count": 10,
   "metadata": {},
   "outputs": [
    {
     "name": "stdout",
     "output_type": "stream",
     "text": [
      "enter your pass: sa\n",
      "Encrypted pass : 353311\n",
      "Enter Encrypted pass: 353311\n"
     ]
    },
    {
     "ename": "AttributeError",
     "evalue": "'dict_values' object has no attribute 'index'",
     "output_type": "error",
     "traceback": [
      "\u001b[1;31m---------------------------------------------------------------------------\u001b[0m",
      "\u001b[1;31mAttributeError\u001b[0m                            Traceback (most recent call last)",
      "\u001b[1;32m<ipython-input-10-1adc81641e8b>\u001b[0m in \u001b[0;36m<module>\u001b[1;34m\u001b[0m\n\u001b[0;32m     36\u001b[0m     \u001b[0mn\u001b[0m \u001b[1;33m=\u001b[0m \u001b[0mn\u001b[0m \u001b[1;33m+\u001b[0m \u001b[1;36m3\u001b[0m\u001b[1;33m\u001b[0m\u001b[1;33m\u001b[0m\u001b[0m\n\u001b[0;32m     37\u001b[0m \u001b[1;32mfor\u001b[0m \u001b[0mh\u001b[0m \u001b[1;32min\u001b[0m \u001b[0mrange\u001b[0m\u001b[1;33m(\u001b[0m\u001b[1;36m0\u001b[0m\u001b[1;33m,\u001b[0m \u001b[0mlen\u001b[0m\u001b[1;33m(\u001b[0m\u001b[0mdecryption\u001b[0m\u001b[1;33m)\u001b[0m\u001b[1;33m)\u001b[0m\u001b[1;33m:\u001b[0m\u001b[1;33m\u001b[0m\u001b[1;33m\u001b[0m\u001b[0m\n\u001b[1;32m---> 38\u001b[1;33m     \u001b[0mprint\u001b[0m \u001b[1;33m(\u001b[0m\u001b[0mgrid\u001b[0m\u001b[1;33m.\u001b[0m\u001b[0mkeys\u001b[0m\u001b[1;33m(\u001b[0m\u001b[1;33m)\u001b[0m\u001b[1;33m[\u001b[0m\u001b[0mgrid\u001b[0m\u001b[1;33m.\u001b[0m\u001b[0mvalues\u001b[0m\u001b[1;33m(\u001b[0m\u001b[1;33m)\u001b[0m\u001b[1;33m.\u001b[0m\u001b[0mindex\u001b[0m\u001b[1;33m(\u001b[0m\u001b[0mdecryption\u001b[0m\u001b[1;33m[\u001b[0m\u001b[0mh\u001b[0m\u001b[1;33m]\u001b[0m\u001b[1;33m)\u001b[0m\u001b[1;33m]\u001b[0m\u001b[1;33m)\u001b[0m \u001b[1;31m#prints decrypted pass\u001b[0m\u001b[1;33m\u001b[0m\u001b[1;33m\u001b[0m\u001b[0m\n\u001b[0m",
      "\u001b[1;31mAttributeError\u001b[0m: 'dict_values' object has no attribute 'index'"
     ]
    }
   ],
   "source": [
    "\"\"\"****************Grid**********************\"\"\"\n",
    "grid = {}\n",
    "key = 33\n",
    "index = []\n",
    "for x in range(1, 4):\n",
    "    c = x\n",
    "    for y in range(1, 9):\n",
    "        b = y\n",
    "        for z in range(1, 5):\n",
    "            a = z\n",
    "            index = []\n",
    "            for f in (c, b, a):\n",
    "                index.append(str(f))\n",
    "            grid[chr(key)] = index\n",
    "            key += 1\n",
    "\n",
    "\n",
    "\"\"\"*************Encryption********************\"\"\"\n",
    "encryption = []\n",
    "password = input(\"enter your pass: \")\n",
    "for p in range(0, len(password)):\n",
    "    encryption.append(\"\".join(grid[password[p]])) #encrypts the pass\n",
    "print (\"Encrypted pass : \" + \"\".join(encryption) )#prints encrypted pass\n",
    "\n",
    "\n",
    "\"\"\"*************Decryption********************\"\"\"\n",
    "decryption = []\n",
    "ecn_pass = input(\"Enter Encrypted pass: \") #will be changed to a var taking ecrypted_pass as input\n",
    "n = 0\n",
    "dec = []\n",
    "for g in range(0, int(len(ecn_pass)/3)):\n",
    "    dec = []\n",
    "    for e in range(n, n+3):\n",
    "        dec.append(ecn_pass[e])\n",
    "    decryption.append(dec)\n",
    "    n = n + 3\n",
    "for h in range(0, len(decryption)):\n",
    "    print (grid.keys()[grid.values().index(decryption[h])]) #prints decrypted pass\n"
   ]
  },
  {
   "cell_type": "code",
   "execution_count": null,
   "metadata": {},
   "outputs": [],
   "source": []
  },
  {
   "cell_type": "code",
   "execution_count": null,
   "metadata": {},
   "outputs": [],
   "source": []
  },
  {
   "cell_type": "code",
   "execution_count": null,
   "metadata": {},
   "outputs": [],
   "source": []
  }
 ],
 "metadata": {
  "kernelspec": {
   "display_name": "Python 3",
   "language": "python",
   "name": "python3"
  },
  "language_info": {
   "codemirror_mode": {
    "name": "ipython",
    "version": 3
   },
   "file_extension": ".py",
   "mimetype": "text/x-python",
   "name": "python",
   "nbconvert_exporter": "python",
   "pygments_lexer": "ipython3",
   "version": "3.7.1"
  }
 },
 "nbformat": 4,
 "nbformat_minor": 2
}
